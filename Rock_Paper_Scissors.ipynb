{
  "nbformat": 4,
  "nbformat_minor": 0,
  "metadata": {
    "colab": {
      "provenance": [],
      "authorship_tag": "ABX9TyNtBCNLwNxnkUye68Nbi9eq",
      "include_colab_link": true
    },
    "kernelspec": {
      "name": "python3",
      "display_name": "Python 3"
    },
    "language_info": {
      "name": "python"
    }
  },
  "cells": [
    {
      "cell_type": "markdown",
      "metadata": {
        "id": "view-in-github",
        "colab_type": "text"
      },
      "source": [
        "<a href=\"https://colab.research.google.com/github/jordanlapp22/Jordan-Lapp/blob/main/Rock_Paper_Scissors.ipynb\" target=\"_parent\"><img src=\"https://colab.research.google.com/assets/colab-badge.svg\" alt=\"Open In Colab\"/></a>"
      ]
    },
    {
      "cell_type": "code",
      "execution_count": null,
      "metadata": {
        "id": "NahtdMWu4CHg"
      },
      "outputs": [],
      "source": [
        "# Rock-Paper-Scissors game\n",
        "def determine_winner(player1, player2):\n",
        "    if player1 == player2:\n",
        "        return \"It's a tie!\"\n",
        "    elif (player1 == 'rock' and player2 == 'scissors') or (player1 == 'paper' and player2 == 'rock') or (player1 == 'scissors' and player2 == 'paper'):\n",
        "        return \"Player 1 wins!\"\n",
        "    else:\n",
        "        return \"Player 2 wins!\"\n",
        "\n",
        "# Example usage:\n",
        "player1_choice = 'rock'\n",
        "player2_choice = 'scissors'\n",
        "winner = determine_winner(player1_choice, player2_choice)\n",
        "print(\"Winner:\", winner)"
      ]
    }
  ]
}