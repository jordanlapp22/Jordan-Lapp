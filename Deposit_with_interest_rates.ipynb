{
  "nbformat": 4,
  "nbformat_minor": 0,
  "metadata": {
    "colab": {
      "provenance": [],
      "authorship_tag": "ABX9TyM8nEq22i4ycq29BLcUP0fS",
      "include_colab_link": true
    },
    "kernelspec": {
      "name": "python3",
      "display_name": "Python 3"
    },
    "language_info": {
      "name": "python"
    }
  },
  "cells": [
    {
      "cell_type": "markdown",
      "metadata": {
        "id": "view-in-github",
        "colab_type": "text"
      },
      "source": [
        "<a href=\"https://colab.research.google.com/github/jordanlapp22/Jordan-Lapp/blob/main/Deposit_with_interest_rates.ipynb\" target=\"_parent\"><img src=\"https://colab.research.google.com/assets/colab-badge.svg\" alt=\"Open In Colab\"/></a>"
      ]
    },
    {
      "cell_type": "code",
      "execution_count": null,
      "metadata": {
        "id": "yDtmBj_M3wHi"
      },
      "outputs": [],
      "source": [
        "# Deposit with interest rates program\n",
        "def calculate_interest(principal, rate):\n",
        "    interest = (principal * (1+ rate/100))\n",
        "    return principal + interest\n",
        "\n",
        "# Example usage:\n",
        "principal = 1000\n",
        "rate = 5\n",
        "amount = calculate_interest(principal, rate)\n",
        "print(\"Amount after interest:\", amount)"
      ]
    }
  ]
}