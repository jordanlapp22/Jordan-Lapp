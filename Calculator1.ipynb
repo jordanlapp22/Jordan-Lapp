{
  "nbformat": 4,
  "nbformat_minor": 0,
  "metadata": {
    "colab": {
      "provenance": [],
      "mount_file_id": "1HHxUeOYn1b48LHGRrI64qVE5KNTiITBl",
      "authorship_tag": "ABX9TyNwXcghOvy16LBbQHkf1En3",
      "include_colab_link": true
    },
    "kernelspec": {
      "name": "python3",
      "display_name": "Python 3"
    },
    "language_info": {
      "name": "python"
    }
  },
  "cells": [
    {
      "cell_type": "markdown",
      "metadata": {
        "id": "view-in-github",
        "colab_type": "text"
      },
      "source": [
        "<a href=\"https://colab.research.google.com/github/jordanlapp22/Jordan-Lapp/blob/main/Calculator1.ipynb\" target=\"_parent\"><img src=\"https://colab.research.google.com/assets/colab-badge.svg\" alt=\"Open In Colab\"/></a>"
      ]
    },
    {
      "cell_type": "code",
      "execution_count": null,
      "metadata": {
        "id": "wY46tB6Ybx31"
      },
      "outputs": [],
      "source": [
        "While True:\n",
        "  # Get user input for operator\n",
        "\n",
        "  operator= input(\"Enter operator (+,-,*,/,//,%,**) or 'break' to exit: \")\n",
        "\n",
        "  # Check if user wants to exit\n",
        "\n",
        "  If operator.lower()== 'break':\n",
        "  print(\"Exiting Calculator\")\n",
        "  break\n",
        "\n",
        "  # Check if operator is valid\n",
        "\n",
        "  if operator not in ['+', '-','*','/','//','%','**']:\n",
        "    print(\"Invalid operator. Please enter a valid operator.\")\n",
        "    continue\n",
        "\n",
        "  # Get user input for numbers\n",
        "  num1= float(input(\"Enter first number: \")\n",
        "  num2= float(input(\"Enter second number: \"))\n",
        "\n",
        "  # Perform calculation based on operator\n",
        "    if operator == '+':\n",
        "        result = num1 + num2\n",
        "    elif operator == '-':\n",
        "        result = num1 - num2\n",
        "    elif operator == '*':\n",
        "        result = num1 * num2\n",
        "    elif operator == '/':\n",
        "        if num2 == 0:\n",
        "            print(\"Error: Division by zero!\")\n",
        "            continue\n",
        "        result = num1 / num2\n",
        "    elif operator == '//':\n",
        "        if num2 == 0:\n",
        "            print(\"Error: Division by zero!\")\n",
        "            continue\n",
        "        result = num1 // num2\n",
        "    elif operator == '%':\n",
        "        if num2 == 0:\n",
        "            print(\"Error: Modulo by zero!\")\n",
        "            continue\n",
        "        result = num1 % num2\n",
        "    elif operator == '**':\n",
        "        result = num1 ** num2\n",
        "  #Display Result\n",
        "  print(\"Result\", result)"
      ]
    }
  ]
}