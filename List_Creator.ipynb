{
  "nbformat": 4,
  "nbformat_minor": 0,
  "metadata": {
    "colab": {
      "provenance": [],
      "authorship_tag": "ABX9TyNXomx8kLyEIWHEh47khAwB",
      "include_colab_link": true
    },
    "kernelspec": {
      "name": "python3",
      "display_name": "Python 3"
    },
    "language_info": {
      "name": "python"
    }
  },
  "cells": [
    {
      "cell_type": "markdown",
      "metadata": {
        "id": "view-in-github",
        "colab_type": "text"
      },
      "source": [
        "<a href=\"https://colab.research.google.com/github/jordanlapp22/Jordan-Lapp/blob/main/List_Creator.ipynb\" target=\"_parent\"><img src=\"https://colab.research.google.com/assets/colab-badge.svg\" alt=\"Open In Colab\"/></a>"
      ]
    },
    {
      "cell_type": "code",
      "execution_count": null,
      "metadata": {
        "id": "U4qWH-Rs34Ik"
      },
      "outputs": [],
      "source": [
        "# List creator program\n",
        "def create_list():\n",
        "    my_list = []\n",
        "    num = 1\n",
        "    while num <= 10:\n",
        "        my_list.append(num)\n",
        "        num += 1\n",
        "    return my_list\n",
        "\n",
        "# Example usage:\n",
        "result_list = create_list()\n",
        "print(\"Resulting list:\", result_list)"
      ]
    }
  ]
}