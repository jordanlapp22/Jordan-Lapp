{
  "nbformat": 4,
  "nbformat_minor": 0,
  "metadata": {
    "colab": {
      "provenance": [],
      "authorship_tag": "ABX9TyOGOhjahNE0PR1MO4WpNVLN",
      "include_colab_link": true
    },
    "kernelspec": {
      "name": "python3",
      "display_name": "Python 3"
    },
    "language_info": {
      "name": "python"
    }
  },
  "cells": [
    {
      "cell_type": "markdown",
      "metadata": {
        "id": "view-in-github",
        "colab_type": "text"
      },
      "source": [
        "<a href=\"https://colab.research.google.com/github/jordanlapp22/Jordan-Lapp/blob/main/Mortgage_and_Point.ipynb\" target=\"_parent\"><img src=\"https://colab.research.google.com/assets/colab-badge.svg\" alt=\"Open In Colab\"/></a>"
      ]
    },
    {
      "cell_type": "code",
      "execution_count": null,
      "metadata": {
        "id": "IpZPMO-CnMhs"
      },
      "outputs": [],
      "source": [
        "class Mortgage:\n",
        "  def __init__(self,amount,maturity,interest):\n",
        "    self.amount = amount\n",
        "    self.maturity = maturity\n",
        "    self.__interest = interest\n",
        "\n",
        "  def __str__(self):\n",
        "    return f'Mortgage info:/n Initial loan amount: {self.amount} $/n Maturity term: {self.maturity} years/n Interest rate: {self.__interest}%'\n",
        "\n",
        "  def get_interest(self):\n",
        "    return self.__interest\n",
        "\n",
        "  def set_interest(self,newInterest):\n",
        "    if newInterest >= 0:\n",
        "      self.__interest = newInterest\n",
        "    else:\n",
        "      print('Interest must be non-negative!')\n",
        "\n",
        "  def payment(self):\n",
        "    B = self.amount\n",
        "    r = self.__interest / 100\n",
        "    n = self.maturity * 12\n",
        "    return B * (r*(1+r)**n) / ((1+r)**n - 1)"
      ]
    },
    {
      "cell_type": "code",
      "source": [
        "m = Mortgage(10000, 30, 6)"
      ],
      "metadata": {
        "id": "bqgWlgwR8zo2"
      },
      "execution_count": null,
      "outputs": []
    },
    {
      "cell_type": "code",
      "source": [
        "m.set_interest(-5)\n",
        "m.get_interest()"
      ],
      "metadata": {
        "colab": {
          "base_uri": "https://localhost:8080/"
        },
        "id": "kBwvMNee84Fo",
        "outputId": "50de81c3-45c5-43a9-da5f-9ce71329594f"
      },
      "execution_count": null,
      "outputs": [
        {
          "output_type": "stream",
          "name": "stdout",
          "text": [
            "Interest must be non-negative!\n"
          ]
        },
        {
          "output_type": "execute_result",
          "data": {
            "text/plain": [
              "6"
            ]
          },
          "metadata": {},
          "execution_count": 3
        }
      ]
    },
    {
      "cell_type": "code",
      "source": [
        "class Point:\n",
        "  def __init__(self, x, y)\n",
        "    self.x = x\n",
        "    self.y = y\n",
        "  def distance(self, other):\n",
        "    x_diff = (self.x - other.x) ** 2\n",
        "    y_diff = (self.y - other.y) ** 2\n",
        "    return (x_diff + y_diff) ** 0.5\n",
        "\n",
        "  class Point3D(Point):\n",
        "    def __init__(self, x, y, z):\n",
        "      super().__init__(x,y)\n",
        "      self.z = z\n",
        "    def distance(self, other):\n",
        "      x_diff = (self.x - other.x) ** 2\n",
        "      y_diff = (self.y - other.y) ** 2\n",
        "      z_diff = (self.z - other.z) ** 2\n",
        "      return (x_diff + y_diff + z_diff) ** 0.5\n",
        "\n",
        "  p1 = Point(3,4)\n",
        "  p2 = Point(6,8)\n",
        "  print(p1.distance(p2))\n",
        "  p3 = Point3D(3,4,5)\n",
        "  p4 = Point3D(6,8,10)\n",
        "  print(p3.distance(p4))\n",
        "\n"
      ],
      "metadata": {
        "id": "3CPNcuiR9E7p"
      },
      "execution_count": null,
      "outputs": []
    }
  ]
}