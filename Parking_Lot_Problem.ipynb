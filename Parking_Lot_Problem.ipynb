{
  "nbformat": 4,
  "nbformat_minor": 0,
  "metadata": {
    "colab": {
      "provenance": [],
      "authorship_tag": "ABX9TyO5CQSDBpPvaEcAn3d/zMTN",
      "include_colab_link": true
    },
    "kernelspec": {
      "name": "python3",
      "display_name": "Python 3"
    },
    "language_info": {
      "name": "python"
    }
  },
  "cells": [
    {
      "cell_type": "markdown",
      "metadata": {
        "id": "view-in-github",
        "colab_type": "text"
      },
      "source": [
        "<a href=\"https://colab.research.google.com/github/jordanlapp22/Jordan-Lapp/blob/main/Parking_Lot_Problem.ipynb\" target=\"_parent\"><img src=\"https://colab.research.google.com/assets/colab-badge.svg\" alt=\"Open In Colab\"/></a>"
      ]
    },
    {
      "cell_type": "code",
      "execution_count": null,
      "metadata": {
        "id": "QEUh1CSA4WzJ"
      },
      "outputs": [],
      "source": [
        "for hour in range(1,9)\n",
        "  fee = 5 + 2.5hour\n",
        "  if fee<10\n",
        "    fee = 10.0\n",
        "  elif fee>20\n",
        "    fee = 20\n",
        "  print (f'{hour} ${fee}')"
      ]
    }
  ]
}