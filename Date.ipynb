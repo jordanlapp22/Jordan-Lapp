{
  "nbformat": 4,
  "nbformat_minor": 0,
  "metadata": {
    "colab": {
      "provenance": [],
      "authorship_tag": "ABX9TyNmlf3lfIC49/7tfmGhDc8i",
      "include_colab_link": true
    },
    "kernelspec": {
      "name": "python3",
      "display_name": "Python 3"
    },
    "language_info": {
      "name": "python"
    }
  },
  "cells": [
    {
      "cell_type": "markdown",
      "metadata": {
        "id": "view-in-github",
        "colab_type": "text"
      },
      "source": [
        "<a href=\"https://colab.research.google.com/github/jordanlapp22/Jordan-Lapp/blob/main/Date.ipynb\" target=\"_parent\"><img src=\"https://colab.research.google.com/assets/colab-badge.svg\" alt=\"Open In Colab\"/></a>"
      ]
    },
    {
      "cell_type": "code",
      "execution_count": null,
      "metadata": {
        "id": "o9WL4eSRwZ7N"
      },
      "outputs": [],
      "source": [
        "# Get input from the user\n",
        "date_input = input(\"Enter date (MM/DD/YYYY): \")\n",
        "\n",
        "# Split the input by \"/\"\n",
        "date_parts = date_input.split(\"/\")\n",
        "\n",
        "# Assign each part to variables\n",
        "month = date_parts[0]\n",
        "day = date_parts[1]\n",
        "year = date_parts[2]\n",
        "\n",
        "# Print the variables\n",
        "print(\"Month:\", month)\n",
        "print(\"Day:\", day)\n",
        "print(\"Year:\", year)"
      ]
    }
  ]
}